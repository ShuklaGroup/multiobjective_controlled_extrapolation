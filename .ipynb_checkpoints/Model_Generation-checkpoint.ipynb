{
 "cells": [
  {
   "cell_type": "markdown",
   "id": "e813ca8f-4748-4f09-9cdf-acc37e6a1eb1",
   "metadata": {},
   "source": [
    "## Acknowledgments\n",
    "\n",
    "Parts of this codebase were adapted from:\n",
    "\n",
    "- https://github.com/vishakhpk/iter-extrapolation — which implements the iterative controlled extrapolation method\n",
    "- https://github.com/huggingface/transformers — for model loading, fine-tuning, and tokenization\n",
    "\n",
    "We thank the original authors for making their work openly available."
   ]
  },
  {
   "cell_type": "code",
   "execution_count": 1,
   "id": "f7e8436b-408d-4b07-84b0-d985cb725a49",
   "metadata": {},
   "outputs": [],
   "source": [
    "import torch\n",
    "import numpy as np\n",
    "import pandas as pd"
   ]
  },
  {
   "cell_type": "code",
   "execution_count": 2,
   "id": "b6294e50-2b8f-42e2-9ca8-05d2061fcae1",
   "metadata": {
    "scrolled": true
   },
   "outputs": [
    {
     "name": "stderr",
     "output_type": "stream",
     "text": [
      "/home/nicole/miniconda3/envs/transformers/lib/python3.8/site-packages/tqdm/auto.py:21: TqdmWarning: IProgress not found. Please update jupyter and ipywidgets. See https://ipywidgets.readthedocs.io/en/stable/user_install.html\n",
      "  from .autonotebook import tqdm as notebook_tqdm\n"
     ]
    }
   ],
   "source": [
    "from utils.model_generation_modules import load_model\n",
    "from utils.model_generation_modules import get_tgt_seq, get_mut_fromseq, get_seq_frommut, generating_muts"
   ]
  },
  {
   "cell_type": "markdown",
   "id": "60191fe4-293c-4d48-b2bc-1ef09b020136",
   "metadata": {},
   "source": [
    "#### Load Model"
   ]
  },
  {
   "cell_type": "code",
   "execution_count": 3,
   "id": "78d4b80e-ec74-45b3-992a-b3794fa7c424",
   "metadata": {},
   "outputs": [],
   "source": [
    "# Define Device Used to Load Model (GPU if available)\n",
    "device = torch.device('cuda:0' if torch.cuda.is_available() else 'cpu')\n",
    "# Give Dataset Name and Foundation Model ID\n",
    "dataset_name = \"PbrR\"\n",
    "model_id = \"Rostlab/prot_t5_xl_uniref50\""
   ]
  },
  {
   "cell_type": "code",
   "execution_count": 4,
   "id": "f65606f7-b325-4981-a685-d446691e2947",
   "metadata": {
    "scrolled": true
   },
   "outputs": [
    {
     "name": "stderr",
     "output_type": "stream",
     "text": [
      "/home/nicole/miniconda3/envs/transformers/lib/python3.8/site-packages/huggingface_hub/file_download.py:1150: FutureWarning: `resume_download` is deprecated and will be removed in version 1.0.0. Downloads always resume when possible. If you want to force a new download, use `force_download=True`.\n",
      "  warnings.warn(\n"
     ]
    },
    {
     "name": "stdout",
     "output_type": "stream",
     "text": [
      "PeftModelForSeq2SeqLM(\n",
      "  (base_model): LoraModel(\n",
      "    (model): T5ForConditionalGeneration(\n",
      "      (shared): Embedding(130, 1024)\n",
      "      (encoder): T5Stack(\n",
      "        (embed_tokens): Embedding(130, 1024)\n",
      "        (block): ModuleList(\n",
      "          (0): T5Block(\n",
      "            (layer): ModuleList(\n",
      "              (0): T5LayerSelfAttention(\n",
      "                (SelfAttention): T5Attention(\n",
      "                  (q): Linear(\n",
      "                    in_features=1024, out_features=4096, bias=False\n",
      "                    (lora_dropout): Dropout(p=0.05, inplace=False)\n",
      "                    (lora_A): Linear(in_features=1024, out_features=16, bias=False)\n",
      "                    (lora_B): Linear(in_features=16, out_features=4096, bias=False)\n",
      "                  )\n",
      "                  (k): Linear(in_features=1024, out_features=4096, bias=False)\n",
      "                  (v): Linear(\n",
      "                    in_features=1024, out_features=4096, bias=False\n",
      "                    (lora_dropout): Dropout(p=0.05, inplace=False)\n",
      "                    (lora_A): Linear(in_features=1024, out_features=16, bias=False)\n",
      "                    (lora_B): Linear(in_features=16, out_features=4096, bias=False)\n",
      "                  )\n",
      "                  (o): Linear(in_features=4096, out_features=1024, bias=False)\n",
      "                  (relative_attention_bias): Embedding(32, 32)\n",
      "                )\n",
      "                (layer_norm): T5LayerNorm()\n",
      "                (dropout): Dropout(p=0.1, inplace=False)\n",
      "              )\n",
      "              (1): T5LayerFF(\n",
      "                (DenseReluDense): T5DenseActDense(\n",
      "                  (wi): Linear(in_features=1024, out_features=16384, bias=False)\n",
      "                  (wo): Linear(in_features=16384, out_features=1024, bias=False)\n",
      "                  (dropout): Dropout(p=0.1, inplace=False)\n",
      "                  (act): ReLU()\n",
      "                )\n",
      "                (layer_norm): T5LayerNorm()\n",
      "                (dropout): Dropout(p=0.1, inplace=False)\n",
      "              )\n",
      "            )\n",
      "          )\n",
      "          (1-23): 23 x T5Block(\n",
      "            (layer): ModuleList(\n",
      "              (0): T5LayerSelfAttention(\n",
      "                (SelfAttention): T5Attention(\n",
      "                  (q): Linear(\n",
      "                    in_features=1024, out_features=4096, bias=False\n",
      "                    (lora_dropout): Dropout(p=0.05, inplace=False)\n",
      "                    (lora_A): Linear(in_features=1024, out_features=16, bias=False)\n",
      "                    (lora_B): Linear(in_features=16, out_features=4096, bias=False)\n",
      "                  )\n",
      "                  (k): Linear(in_features=1024, out_features=4096, bias=False)\n",
      "                  (v): Linear(\n",
      "                    in_features=1024, out_features=4096, bias=False\n",
      "                    (lora_dropout): Dropout(p=0.05, inplace=False)\n",
      "                    (lora_A): Linear(in_features=1024, out_features=16, bias=False)\n",
      "                    (lora_B): Linear(in_features=16, out_features=4096, bias=False)\n",
      "                  )\n",
      "                  (o): Linear(in_features=4096, out_features=1024, bias=False)\n",
      "                )\n",
      "                (layer_norm): T5LayerNorm()\n",
      "                (dropout): Dropout(p=0.1, inplace=False)\n",
      "              )\n",
      "              (1): T5LayerFF(\n",
      "                (DenseReluDense): T5DenseActDense(\n",
      "                  (wi): Linear(in_features=1024, out_features=16384, bias=False)\n",
      "                  (wo): Linear(in_features=16384, out_features=1024, bias=False)\n",
      "                  (dropout): Dropout(p=0.1, inplace=False)\n",
      "                  (act): ReLU()\n",
      "                )\n",
      "                (layer_norm): T5LayerNorm()\n",
      "                (dropout): Dropout(p=0.1, inplace=False)\n",
      "              )\n",
      "            )\n",
      "          )\n",
      "        )\n",
      "        (final_layer_norm): T5LayerNorm()\n",
      "        (dropout): Dropout(p=0.1, inplace=False)\n",
      "      )\n",
      "      (decoder): T5Stack(\n",
      "        (embed_tokens): Embedding(130, 1024)\n",
      "        (block): ModuleList(\n",
      "          (0): T5Block(\n",
      "            (layer): ModuleList(\n",
      "              (0): T5LayerSelfAttention(\n",
      "                (SelfAttention): T5Attention(\n",
      "                  (q): Linear(\n",
      "                    in_features=1024, out_features=4096, bias=False\n",
      "                    (lora_dropout): Dropout(p=0.05, inplace=False)\n",
      "                    (lora_A): Linear(in_features=1024, out_features=16, bias=False)\n",
      "                    (lora_B): Linear(in_features=16, out_features=4096, bias=False)\n",
      "                  )\n",
      "                  (k): Linear(in_features=1024, out_features=4096, bias=False)\n",
      "                  (v): Linear(\n",
      "                    in_features=1024, out_features=4096, bias=False\n",
      "                    (lora_dropout): Dropout(p=0.05, inplace=False)\n",
      "                    (lora_A): Linear(in_features=1024, out_features=16, bias=False)\n",
      "                    (lora_B): Linear(in_features=16, out_features=4096, bias=False)\n",
      "                  )\n",
      "                  (o): Linear(in_features=4096, out_features=1024, bias=False)\n",
      "                  (relative_attention_bias): Embedding(32, 32)\n",
      "                )\n",
      "                (layer_norm): T5LayerNorm()\n",
      "                (dropout): Dropout(p=0.1, inplace=False)\n",
      "              )\n",
      "              (1): T5LayerCrossAttention(\n",
      "                (EncDecAttention): T5Attention(\n",
      "                  (q): Linear(\n",
      "                    in_features=1024, out_features=4096, bias=False\n",
      "                    (lora_dropout): Dropout(p=0.05, inplace=False)\n",
      "                    (lora_A): Linear(in_features=1024, out_features=16, bias=False)\n",
      "                    (lora_B): Linear(in_features=16, out_features=4096, bias=False)\n",
      "                  )\n",
      "                  (k): Linear(in_features=1024, out_features=4096, bias=False)\n",
      "                  (v): Linear(\n",
      "                    in_features=1024, out_features=4096, bias=False\n",
      "                    (lora_dropout): Dropout(p=0.05, inplace=False)\n",
      "                    (lora_A): Linear(in_features=1024, out_features=16, bias=False)\n",
      "                    (lora_B): Linear(in_features=16, out_features=4096, bias=False)\n",
      "                  )\n",
      "                  (o): Linear(in_features=4096, out_features=1024, bias=False)\n",
      "                )\n",
      "                (layer_norm): T5LayerNorm()\n",
      "                (dropout): Dropout(p=0.1, inplace=False)\n",
      "              )\n",
      "              (2): T5LayerFF(\n",
      "                (DenseReluDense): T5DenseActDense(\n",
      "                  (wi): Linear(in_features=1024, out_features=16384, bias=False)\n",
      "                  (wo): Linear(in_features=16384, out_features=1024, bias=False)\n",
      "                  (dropout): Dropout(p=0.1, inplace=False)\n",
      "                  (act): ReLU()\n",
      "                )\n",
      "                (layer_norm): T5LayerNorm()\n",
      "                (dropout): Dropout(p=0.1, inplace=False)\n",
      "              )\n",
      "            )\n",
      "          )\n",
      "          (1-23): 23 x T5Block(\n",
      "            (layer): ModuleList(\n",
      "              (0): T5LayerSelfAttention(\n",
      "                (SelfAttention): T5Attention(\n",
      "                  (q): Linear(\n",
      "                    in_features=1024, out_features=4096, bias=False\n",
      "                    (lora_dropout): Dropout(p=0.05, inplace=False)\n",
      "                    (lora_A): Linear(in_features=1024, out_features=16, bias=False)\n",
      "                    (lora_B): Linear(in_features=16, out_features=4096, bias=False)\n",
      "                  )\n",
      "                  (k): Linear(in_features=1024, out_features=4096, bias=False)\n",
      "                  (v): Linear(\n",
      "                    in_features=1024, out_features=4096, bias=False\n",
      "                    (lora_dropout): Dropout(p=0.05, inplace=False)\n",
      "                    (lora_A): Linear(in_features=1024, out_features=16, bias=False)\n",
      "                    (lora_B): Linear(in_features=16, out_features=4096, bias=False)\n",
      "                  )\n",
      "                  (o): Linear(in_features=4096, out_features=1024, bias=False)\n",
      "                )\n",
      "                (layer_norm): T5LayerNorm()\n",
      "                (dropout): Dropout(p=0.1, inplace=False)\n",
      "              )\n",
      "              (1): T5LayerCrossAttention(\n",
      "                (EncDecAttention): T5Attention(\n",
      "                  (q): Linear(\n",
      "                    in_features=1024, out_features=4096, bias=False\n",
      "                    (lora_dropout): Dropout(p=0.05, inplace=False)\n",
      "                    (lora_A): Linear(in_features=1024, out_features=16, bias=False)\n",
      "                    (lora_B): Linear(in_features=16, out_features=4096, bias=False)\n",
      "                  )\n",
      "                  (k): Linear(in_features=1024, out_features=4096, bias=False)\n",
      "                  (v): Linear(\n",
      "                    in_features=1024, out_features=4096, bias=False\n",
      "                    (lora_dropout): Dropout(p=0.05, inplace=False)\n",
      "                    (lora_A): Linear(in_features=1024, out_features=16, bias=False)\n",
      "                    (lora_B): Linear(in_features=16, out_features=4096, bias=False)\n",
      "                  )\n",
      "                  (o): Linear(in_features=4096, out_features=1024, bias=False)\n",
      "                )\n",
      "                (layer_norm): T5LayerNorm()\n",
      "                (dropout): Dropout(p=0.1, inplace=False)\n",
      "              )\n",
      "              (2): T5LayerFF(\n",
      "                (DenseReluDense): T5DenseActDense(\n",
      "                  (wi): Linear(in_features=1024, out_features=16384, bias=False)\n",
      "                  (wo): Linear(in_features=16384, out_features=1024, bias=False)\n",
      "                  (dropout): Dropout(p=0.1, inplace=False)\n",
      "                  (act): ReLU()\n",
      "                )\n",
      "                (layer_norm): T5LayerNorm()\n",
      "                (dropout): Dropout(p=0.1, inplace=False)\n",
      "              )\n",
      "            )\n",
      "          )\n",
      "        )\n",
      "        (final_layer_norm): T5LayerNorm()\n",
      "        (dropout): Dropout(p=0.1, inplace=False)\n",
      "      )\n",
      "      (lm_head): Linear(in_features=1024, out_features=130, bias=False)\n",
      "    )\n",
      "  )\n",
      ")\n"
     ]
    }
   ],
   "source": [
    "# Load the Trained Model\n",
    "tokenizer, loaded_model = load_model(model_id, dataset_name, device)"
   ]
  },
  {
   "cell_type": "markdown",
   "id": "b95fabac-a9c9-48a3-b06e-dd48fe557717",
   "metadata": {},
   "source": [
    "#### Generate Sequences"
   ]
  },
  {
   "cell_type": "code",
   "execution_count": 5,
   "id": "4ba270a5-fab8-45cf-be6c-81710eb9197b",
   "metadata": {},
   "outputs": [],
   "source": [
    "# Get Seed Sequences (Better than WT)\n",
    "data = pd.read_csv('input.csv')\n",
    "data.columns = [\"Variant\", \"Pb\", \"Zn\", \"seq\"]\n",
    "starting_points = data.query(\"Pb > 2.0\").query(\"Zn < 0.5\")\n",
    "\n",
    "# Get the list of mutants (sorted) that has been seen already in experiments\n",
    "sorted_mutant_list = ['_'.join(sorted(i.split('_'))) for i in data.Variant.tolist()]"
   ]
  },
  {
   "cell_type": "code",
   "execution_count": 6,
   "id": "57264809-1caf-4a78-b051-6c754725a2c9",
   "metadata": {},
   "outputs": [
    {
     "name": "stderr",
     "output_type": "stream",
     "text": [
      "/home/nicole/miniconda3/envs/transformers/lib/python3.8/site-packages/transformers/generation/utils.py:1201: UserWarning: You have modified the pretrained model configuration to control generation. This is a deprecated strategy to control generation and will be removed soon, in a future version. Please use a generation configuration file (see https://huggingface.co/docs/transformers/main_classes/text_generation)\n",
      "  warnings.warn(\n"
     ]
    },
    {
     "name": "stdout",
     "output_type": "stream",
     "text": [
      "Processed 0 sequences, number of new mutations = 0\n",
      "Processed 1 sequences, number of new mutations = 0\n",
      "Processed 2 sequences, number of new mutations = 0\n",
      "Processed 3 sequences, number of new mutations = 0\n",
      "Processed 4 sequences, number of new mutations = 1\n",
      "Processed 5 sequences, number of new mutations = 1\n",
      "Processed 6 sequences, number of new mutations = 1\n",
      "Processed 7 sequences, number of new mutations = 1\n"
     ]
    }
   ],
   "source": [
    "# Generate New Mutations\n",
    "generated_mutants = generating_muts(0, 1.0, starting_points, tokenizer, device, loaded_model, sorted_mutant_list)"
   ]
  },
  {
   "cell_type": "code",
   "execution_count": 7,
   "id": "36b53d89-8100-4ee7-97f3-af2d4f70d8a7",
   "metadata": {},
   "outputs": [
    {
     "data": {
      "text/plain": [
       "array(['D135W_V46I'], dtype='<U10')"
      ]
     },
     "execution_count": 7,
     "metadata": {},
     "output_type": "execute_result"
    }
   ],
   "source": [
    "generated_mutants"
   ]
  },
  {
   "cell_type": "code",
   "execution_count": null,
   "id": "ac0afa23-2b22-4e6f-9b42-1e23974d7561",
   "metadata": {},
   "outputs": [],
   "source": []
  },
  {
   "cell_type": "code",
   "execution_count": null,
   "id": "7a924cd8-8cd4-45f1-8718-c4bf24b9eacb",
   "metadata": {},
   "outputs": [],
   "source": []
  },
  {
   "cell_type": "code",
   "execution_count": null,
   "id": "dadd01e7-96c4-4ec3-aa68-b9f65e43352e",
   "metadata": {},
   "outputs": [],
   "source": []
  },
  {
   "cell_type": "code",
   "execution_count": null,
   "id": "068bbaac-80c4-4e91-a64a-08314e617d3b",
   "metadata": {},
   "outputs": [],
   "source": []
  },
  {
   "cell_type": "code",
   "execution_count": null,
   "id": "1bfcc1ea-40d5-4610-85b7-8589e5d4f47e",
   "metadata": {},
   "outputs": [],
   "source": []
  }
 ],
 "metadata": {
  "kernelspec": {
   "display_name": "Python 3 (ipykernel)",
   "language": "python",
   "name": "python3"
  },
  "language_info": {
   "codemirror_mode": {
    "name": "ipython",
    "version": 3
   },
   "file_extension": ".py",
   "mimetype": "text/x-python",
   "name": "python",
   "nbconvert_exporter": "python",
   "pygments_lexer": "ipython3",
   "version": "3.8.17"
  }
 },
 "nbformat": 4,
 "nbformat_minor": 5
}
