{
 "cells": [
  {
   "cell_type": "markdown",
   "id": "4a08373a-3fe9-456d-ad15-56efe7584248",
   "metadata": {},
   "source": [
    "## Acknowledgments\n",
    "\n",
    "Parts of this codebase were adapted from:\n",
    "\n",
    "- https://github.com/vishakhpk/iter-extrapolation — which implements the iterative controlled extrapolation method\n",
    "- https://github.com/huggingface/transformers — for model loading, fine-tuning, and tokenization\n",
    "\n",
    "We thank the original authors for making their work openly available."
   ]
  },
  {
   "cell_type": "code",
   "execution_count": 1,
   "id": "1ce18d7c-66f9-4999-ab62-79078900f693",
   "metadata": {},
   "outputs": [],
   "source": [
    "import itertools\n",
    "import numpy as np\n",
    "import pandas as pd"
   ]
  },
  {
   "cell_type": "code",
   "execution_count": 2,
   "id": "14d5edee-228e-4985-976a-d1f61f9d0494",
   "metadata": {},
   "outputs": [],
   "source": [
    "from utils.pair_data_generation_modules import get_label, get_pair_data, balance_pair_data\n",
    "from utils.pair_data_generation_modules import create_one_input_pair, generate_json_file, save_json, load_json, save_to_jsonl"
   ]
  },
  {
   "cell_type": "markdown",
   "id": "8dfec1d9-8c5b-4995-9184-0b74e4b4d46b",
   "metadata": {},
   "source": [
    "#### Load Data"
   ]
  },
  {
   "cell_type": "code",
   "execution_count": 3,
   "id": "1cd0243b-dcd9-45ec-9929-f9d476ac0c61",
   "metadata": {},
   "outputs": [],
   "source": [
    "# Load Input CSV File Containing Variant, Fold Changes for Pb and Zn, and Variant Sequence\n",
    "data = pd.read_csv('input.csv')\n",
    "data.columns = [\"Variant\", \"Pb\", \"Zn\", \"seq\"]"
   ]
  },
  {
   "cell_type": "code",
   "execution_count": 4,
   "id": "308d8ded-729e-4500-af56-da7ec4b34f00",
   "metadata": {},
   "outputs": [],
   "source": [
    "# Generate All Possible Pairs \n",
    "pairs = list(itertools.combinations(data.itertuples(index=False), 2))"
   ]
  },
  {
   "cell_type": "code",
   "execution_count": 5,
   "id": "4550724b-bff2-4cc7-92f7-fc73a939f020",
   "metadata": {},
   "outputs": [],
   "source": [
    "# Define Threshold For Pair Differences in Each Fold Change Metric (Pb and Zn)\n",
    "PB_THRESHOLD = 0.5  \n",
    "ZN_THRESHOLD = 0.5 "
   ]
  },
  {
   "cell_type": "code",
   "execution_count": 6,
   "id": "a5673bd2-c23d-4950-ba98-1454e37e830c",
   "metadata": {},
   "outputs": [],
   "source": [
    "# Generate Pair Data\n",
    "pair_data_df = get_pair_data(pairs, pb_thresh = PB_THRESHOLD, zn_thresh = ZN_THRESHOLD)"
   ]
  },
  {
   "cell_type": "code",
   "execution_count": 7,
   "id": "db8d3201-7165-46a8-95d6-52cb2d4b0ff0",
   "metadata": {},
   "outputs": [
    {
     "name": "stdout",
     "output_type": "stream",
     "text": [
      "Number of insignificant comparisons: 507996\n",
      "Number of same direction significant comparisons: 83157\n",
      "Number of opposite direction significant comparisons: 12198\n",
      "Minimum number of appearances per mutant: 2\n",
      "Maximum number of appearances per mutant: 342\n"
     ]
    }
   ],
   "source": [
    "# Balance the Data so that we have similar number of pairs for each objective category \n",
    "# We also Check Coverage to Make sure we see all mutants at least once in the pair data\n",
    "balanced_df = balance_pair_data(pair_data_df, data)"
   ]
  },
  {
   "cell_type": "code",
   "execution_count": 8,
   "id": "abcf5c7c-13a4-4ef7-a670-ec327b8aa7dc",
   "metadata": {},
   "outputs": [
    {
     "data": {
      "text/html": [
       "<div>\n",
       "<style scoped>\n",
       "    .dataframe tbody tr th:only-of-type {\n",
       "        vertical-align: middle;\n",
       "    }\n",
       "\n",
       "    .dataframe tbody tr th {\n",
       "        vertical-align: top;\n",
       "    }\n",
       "\n",
       "    .dataframe thead th {\n",
       "        text-align: right;\n",
       "    }\n",
       "</style>\n",
       "<table border=\"1\" class=\"dataframe\">\n",
       "  <thead>\n",
       "    <tr style=\"text-align: right;\">\n",
       "      <th></th>\n",
       "      <th>Mutant1</th>\n",
       "      <th>Mutant2</th>\n",
       "      <th>Label</th>\n",
       "    </tr>\n",
       "  </thead>\n",
       "  <tbody>\n",
       "    <tr>\n",
       "      <th>0</th>\n",
       "      <td>K10A</td>\n",
       "      <td>D64K_K104V_G128M</td>\n",
       "      <td>inc-dec</td>\n",
       "    </tr>\n",
       "    <tr>\n",
       "      <th>1</th>\n",
       "      <td>K10A</td>\n",
       "      <td>D64K_K104V_L107C_G128I</td>\n",
       "      <td>inc-dec</td>\n",
       "    </tr>\n",
       "    <tr>\n",
       "      <th>2</th>\n",
       "      <td>K10A</td>\n",
       "      <td>D64K_K104V_L107C</td>\n",
       "      <td>inc-dec</td>\n",
       "    </tr>\n",
       "    <tr>\n",
       "      <th>3</th>\n",
       "      <td>K10A</td>\n",
       "      <td>M60L_D64K_K104V</td>\n",
       "      <td>inc-dec</td>\n",
       "    </tr>\n",
       "    <tr>\n",
       "      <th>4</th>\n",
       "      <td>K10A</td>\n",
       "      <td>L107C_G128I</td>\n",
       "      <td>inc-dec</td>\n",
       "    </tr>\n",
       "  </tbody>\n",
       "</table>\n",
       "</div>"
      ],
      "text/plain": [
       "  Mutant1                 Mutant2    Label\n",
       "0    K10A        D64K_K104V_G128M  inc-dec\n",
       "1    K10A  D64K_K104V_L107C_G128I  inc-dec\n",
       "2    K10A        D64K_K104V_L107C  inc-dec\n",
       "3    K10A         M60L_D64K_K104V  inc-dec\n",
       "4    K10A             L107C_G128I  inc-dec"
      ]
     },
     "execution_count": 8,
     "metadata": {},
     "output_type": "execute_result"
    }
   ],
   "source": [
    "# We take a look At the Balanced Pairs:\n",
    "balanced_df.head()"
   ]
  },
  {
   "cell_type": "code",
   "execution_count": 9,
   "id": "9df639e6-17cf-43b9-ae63-6c618bf87cfc",
   "metadata": {},
   "outputs": [],
   "source": [
    "# Make the Pair Data into a List For Generating Input Text for Seq2Seq Model\n",
    "balanced_list_pairs = {(row[\"Mutant1\"], row[\"Mutant2\"]) for _, row in balanced_df.iterrows()}"
   ]
  },
  {
   "cell_type": "code",
   "execution_count": 10,
   "id": "14cd83e7-7cab-4faa-af21-2e743fb81a28",
   "metadata": {},
   "outputs": [
    {
     "name": "stdout",
     "output_type": "stream",
     "text": [
      "Number of Unique Balanced Pairs: 24396\n"
     ]
    }
   ],
   "source": [
    "# Check The Number of Unique Balanced Pairs\n",
    "print(f\"Number of Unique Balanced Pairs: {len(balanced_list_pairs)}\")"
   ]
  },
  {
   "cell_type": "markdown",
   "id": "1a328d0c-d991-4c6e-a658-1d1996ad160a",
   "metadata": {},
   "source": [
    "#### Create JSONL File for Seq2Seq Model Input"
   ]
  },
  {
   "cell_type": "code",
   "execution_count": 11,
   "id": "dfb4442a-4dad-447b-ac13-a943f72f5b07",
   "metadata": {},
   "outputs": [],
   "source": [
    "# Generate json file for seq2seq model input. This is our Training Data.\n",
    "# The Length of this training data is two times the number of unique balanced pairs\n",
    "# because for each unique pair we can reverse source and target \n",
    "training_data = generate_json_file(data, balanced_list_pairs)"
   ]
  },
  {
   "cell_type": "code",
   "execution_count": 12,
   "id": "380c91a3-a3e2-4842-b237-c2156815a02e",
   "metadata": {},
   "outputs": [],
   "source": [
    "# Give Dataset name for naming JSONL file\n",
    "dataset_name = \"PbrR\""
   ]
  },
  {
   "cell_type": "code",
   "execution_count": 13,
   "id": "54ebdfbe-8bb9-494b-9ce3-14c62bfc8d43",
   "metadata": {},
   "outputs": [],
   "source": [
    "# Save the list of dictionaries to JSONL file\n",
    "save_to_jsonl(\"pair_data_\"+dataset_name+\".json\", training_data)"
   ]
  },
  {
   "cell_type": "code",
   "execution_count": 14,
   "id": "a9b77879-2610-45cf-a6d3-85b0a275ccb3",
   "metadata": {},
   "outputs": [
    {
     "name": "stdout",
     "output_type": "stream",
     "text": [
      "Length of Training Set: 48792\n"
     ]
    }
   ],
   "source": [
    "# Print Length of Training Set \n",
    "print(f\"Length of Training Set: {len(training_data)}\")"
   ]
  },
  {
   "cell_type": "code",
   "execution_count": null,
   "id": "0b0f0ca7-73b5-4d77-8d98-1fffae36e6b8",
   "metadata": {},
   "outputs": [],
   "source": []
  },
  {
   "cell_type": "code",
   "execution_count": null,
   "id": "6f60a607-f9fb-418c-b7af-77f3823ba89a",
   "metadata": {},
   "outputs": [],
   "source": []
  }
 ],
 "metadata": {
  "kernelspec": {
   "display_name": "Python 3 (ipykernel)",
   "language": "python",
   "name": "python3"
  },
  "language_info": {
   "codemirror_mode": {
    "name": "ipython",
    "version": 3
   },
   "file_extension": ".py",
   "mimetype": "text/x-python",
   "name": "python",
   "nbconvert_exporter": "python",
   "pygments_lexer": "ipython3",
   "version": "3.8.17"
  }
 },
 "nbformat": 4,
 "nbformat_minor": 5
}
